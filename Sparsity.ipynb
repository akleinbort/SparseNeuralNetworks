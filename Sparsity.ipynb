{
 "cells": [
  {
   "cell_type": "code",
   "execution_count": 1,
   "metadata": {},
   "outputs": [],
   "source": [
    "import neurons\n",
    "import numpy as np\n",
    "import matplotlib.pyplot as plt\n",
    "from math import pi\n",
    "import random\n",
    "%matplotlib inline\n",
    "import xlsxwriter\n",
    "from scipy import stats\n",
    "import pandas as pd\n",
    "from sklearn.metrics import mean_squared_error\n",
    "import statistics as st"
   ]
  },
  {
   "cell_type": "code",
   "execution_count": 2,
   "metadata": {},
   "outputs": [],
   "source": [
    "def dimensionality(x,N=500):\n",
    "    x1_latetime=x[:,25:] #cuts of beginning\n",
    "    covariance = (1/N-1)*np.matmul (x1_latetime,x1_latetime.T)\n",
    "    #eig_value = np.linalg.eigvals(covariance)\n",
    "    eig_value, eig_vec = np.linalg.eigh(covariance)\n",
    "    #eig_subset = eig_value[:100]\n",
    "    eig_subset = eig_value\n",
    "    eig_subset_sqrd=eig_subset**2\n",
    "    dim=eig_subset.sum()**2/eig_subset_sqrd.sum()\n",
    "    #print(dim)\n",
    "    return dim"
   ]
  },
  {
   "cell_type": "code",
   "execution_count": 9,
   "metadata": {},
   "outputs": [],
   "source": [
    "#network (bi-directionality and learning can be commented in/out)\n",
    "#K=2\n",
    "my_resuls = {}\n",
    "dimen={}\n",
    "def runsim(N=500):\n",
    "    g = 2\n",
    "    T = 100\n",
    "    dt = 0.1\n",
    "    bi=7\n",
    "    alpha = 1\n",
    "    f = 0.5\n",
    "    W = np.zeros(N)\n",
    "    W_fb = np.random.randn(N)\n",
    "    stoplearn = T/2 #when to stop learning\n",
    "\n",
    "    phi = np.tanh\n",
    "\n",
    "    NT = int(T/dt)\n",
    "    tx = dt*np.arange(NT)\n",
    "    x = np.zeros([N,NT])\n",
    "    z = np.zeros(NT) \n",
    "    err = np.zeros(NT) \n",
    "        #random initial conditions\n",
    "    x[:,0] = 0.1*np.random.standard_normal(N)          #0.1?\n",
    "    P = np.eye(N)/alpha\n",
    "\n",
    "#SPARSITY\n",
    "    #mask = np.zeros([N,N])\n",
    "    #for row in range(N):\n",
    "        #columns=random.sample(range(N),K)\n",
    "        #for column in columns:\n",
    "            #mask[row,column]=1\n",
    "    #list(mask)\n",
    "    #J = g/np.sqrt(K) * np.random.standard_normal([N,N]) \n",
    "    #J_sparse = np.multiply(J, mask)\n",
    "\n",
    "#BI-DIRECTIONAL SPARSITY\n",
    "    mask = np.zeros([N,N])\n",
    "    for row in range(N):\n",
    "        columns=random.sample(range(N),bi)\n",
    "        for column in columns:\n",
    "            mask[row,column]=1\n",
    "            mask[column,row]=1\n",
    "    for row in range(N):\n",
    "        columns=random.sample(range(N),K)\n",
    "        for column in columns:\n",
    "            mask[row,column]=1\n",
    "    list(mask)\n",
    "    J = g/np.sqrt(K) * np.random.standard_normal([N,N]) \n",
    "    J_sparse = np.multiply(J, mask) \n",
    "    \n",
    "    \n",
    "    omega = 2*pi*f\n",
    "    target = np.sin(omega*tx) #target sine wave\n",
    "    ind_stoplearn = int(stoplearn/dt)\n",
    "\n",
    "#SIMULATION\n",
    "    for ti in range(NT-1): \n",
    "\n",
    "        x1 = x[:,ti]\n",
    "        z[ti] = np.dot(W,x1) \n",
    "        err[ti] = z[ti] - target[ti]\n",
    "\n",
    "        dx = -x[:,ti] + phi(J_sparse @ x[:,ti] + W_fb*z[ti])\n",
    "\n",
    "        x[:,ti+1] = x[:,ti] + dt*dx \n",
    "\n",
    "\n",
    "#LEARNING\n",
    "        if ti < ind_stoplearn:\n",
    "            #weight update\n",
    "            W = W - err[ti]*P@x1\n",
    "            #RLS update\n",
    "            P = P - (P @ np.outer(x1,x1) @ P)/(1 + x1.T @ P @ x1)\n",
    "#Error            \n",
    "    my_resuls[K] = mean_squared_error(z, target)\n",
    "    dimen[K]=dimensionality(x,N=100)\n",
    "    return x, tx, my_resuls[K]\n",
    "\n",
    "\n",
    "\n"
   ]
  },
  {
   "cell_type": "code",
   "execution_count": 4,
   "metadata": {},
   "outputs": [],
   "source": [
    "phi = np.tanh\n",
    "def calc_autocorr(x):\n",
    "    N = x.shape[0]\n",
    "    NT = x.shape[1]\n",
    "    C = np.zeros(NT)\n",
    "    for tau in range(NT): \n",
    "        acc = np.zeros(N)\n",
    "        for ti in range(NT-tau): \n",
    "            acc += phi(x[:,ti]) * phi(x[:,ti+tau])\n",
    "        acc /= NT-tau \n",
    "        C[tau] = acc.sum()/N \n",
    "    C /= C[0] #scales to 1\n",
    "    return C"
   ]
  },
  {
   "cell_type": "code",
   "execution_count": 11,
   "metadata": {},
   "outputs": [
    {
     "data": {
      "text/plain": [
       "<matplotlib.axes._subplots.AxesSubplot at 0x1a25b150f0>"
      ]
     },
     "execution_count": 11,
     "metadata": {},
     "output_type": "execute_result"
    },
    {
     "data": {
      "image/png": "[encoded data removed]",
      "text/plain": [
       "<Figure size 432x288 with 1 Axes>"
      ]
     },
     "metadata": {},
     "output_type": "display_data"
    }
   ],
   "source": [
    "#Error and sparsity\n",
    "my_resuls = {}\n",
    "for K in range(1,500):\n",
    "    runsim()\n",
    "pd.Series(my_resuls).plot()\n"
   ]
  },
  {
   "cell_type": "code",
   "execution_count": 12,
   "metadata": {},
   "outputs": [
    {
     "data": {
      "text/plain": [
       "<matplotlib.axes._subplots.AxesSubplot at 0x1a25aa9f98>"
      ]
     },
     "execution_count": 12,
     "metadata": {},
     "output_type": "execute_result"
    },
    {
     "data": {
      "image/png": "[encoded data removed]",
      "text/plain": [
       "<Figure size 432x288 with 1 Axes>"
      ]
     },
     "metadata": {},
     "output_type": "display_data"
    }
   ],
   "source": [
    "#Dimen and Sparsity\n",
    "pd.Series(dimen).plot()"
   ]
  },
  {
   "cell_type": "code",
   "execution_count": 13,
   "metadata": {},
   "outputs": [
    {
     "data": {
      "text/plain": [
       "<matplotlib.axes._subplots.AxesSubplot at 0x1a26b13cf8>"
      ]
     },
     "execution_count": 13,
     "metadata": {},
     "output_type": "execute_result"
    },
    {
     "data": {
      "image/png": "[encoded data removed]",
      "text/plain": [
       "<Figure size 432x288 with 1 Axes>"
      ]
     },
     "metadata": {},
     "output_type": "display_data"
    }
   ],
   "source": [
    "pd.Series(my_resuls).plot(xlim=(0,5))"
   ]
  },
  {
   "cell_type": "code",
   "execution_count": 15,
   "metadata": {},
   "outputs": [
    {
     "name": "stdout",
     "output_type": "stream",
     "text": [
      "5.337336995529612\n",
      "66.60475919922929\n"
     ]
    }
   ],
   "source": [
    "#Average Dimensionality and error for 100 runs\n",
    "K=2\n",
    "dims=np.zeros(100)\n",
    "errors=np.zeros(100)\n",
    "for runs in range(1,100):\n",
    "    x,tx,error=runsim()\n",
    "    dim=dimensionality(x)\n",
    "    dims[runs]=dim\n",
    "    errors[runs]=error\n",
    "avg_error=np.mean(errors)\n",
    "avg_dim=np.mean(dims)\n",
    "print(avg_dim)\n",
    "print(avg_error)"
   ]
  },
  {
   "cell_type": "code",
   "execution_count": null,
   "metadata": {},
   "outputs": [],
   "source": [
    "#Runsim and autocorrolation(the autocor takes a long time)\n",
    "x, tx, error=runsim()\n",
    "C_g1=calc_autocorr(x)"
   ]
  },
  {
   "cell_type": "code",
   "execution_count": null,
   "metadata": {},
   "outputs": [],
   "source": [
    "#Plot 5 sample neurons and autocorrolation\n",
    "fig = plt.figure(figsize=[5.,2.])\n",
    "\n",
    "ax = plt.subplot(121) \n",
    "plt.plot(tx, x[0:5].T)\n",
    "plt.ylim(-1,1)\n",
    "plt.xticks((0,50,100))\n",
    "plt.yticks((-1,0,1))\n",
    "plt.xlabel('Time')\n",
    "plt.ylabel('Rate')\n",
    "plt.title('g=_ & K=_')\n",
    "\n",
    "ax = plt.subplot(122)\n",
    "plt.plot(tx, C_g1) \n",
    "plt.ylim(-1,1)\n",
    "plt.xticks((0,50,100))\n",
    "plt.yticks((-1,0,1)) \n",
    "plt.xlabel('Tau')\n",
    "plt.ylabel('C')\n",
    "plt.tight_layout()\n",
    "plt.title('autocorr')\n"
   ]
  },
  {
   "cell_type": "code",
   "execution_count": null,
   "metadata": {},
   "outputs": [],
   "source": [
    "#HISTOGRAMS - the runsim in the \"neurons\" file doesn't have learning or bi-directionality\n",
    "run1_args = {'g':2,'K':800}\n",
    "tx1,x1,J1 = neurons.runsim(**run1_args)\n",
    "#permutate values to make all the histograms\n",
    "runs=[{}]\n",
    "runs = neurons.perm_over(runs,'g',[0.9,2,5])\n",
    "runs = neurons.perm_over(runs,'K',[2,10,100])\n",
    "print(runs)\n",
    "size=(len(runs))\n",
    "results=[]\n",
    "for run in runs:\n",
    "    results.append(neurons.runsim(**run)) #actual run\n",
    "\n",
    "#making histograms    \n",
    "means=[]\n",
    "stds=[]\n",
    "\n",
    "def node_histogram (x, J, N=800, T=100, dt=.1, K=100, **kwargs):\n",
    "    NT = int(T/dt)\n",
    "    neuron = np.zeros([N,NT])\n",
    "    single_neurons=np.zeros([N,NT])\n",
    "\n",
    "    for ti in range(NT):   \n",
    "        neuron[:,ti] =  J@(x[:,ti])\n",
    "        \n",
    "    avg_neuron=neuron.mean(axis=0)\n",
    "    \n",
    "    plt.hist(avg_neuron, 40)\n",
    "    plt.xticks((-0.2,0,0.2))\n",
    "    plt.show()\n",
    "    mean=np.mean(avg_neuron)\n",
    "    std=np.std(avg_neuron)\n",
    "    \n",
    "    means.append(mean)\n",
    "    stds.append(std)  \n",
    "    \n",
    "    \n",
    "    #PLOTS SINGLE NETWORK AS AN AVERAGE OF NEURONS \n",
    "    single_neuron=neuron[0,:] #first row, all columns\n",
    "    return (mean, std,)\n",
    " \n",
    "    #PLOTS SINGLE NETWORK AS AN AVERAGE OF NEURONS AND ALSO SINGLE NEURONS OF EACH \n",
    "    #single_neurons=neuron[:,:] \n",
    "    #for row in range(10): #range is amount of single neuron examples\n",
    "        #plt.hist(single_neurons[row,:], 40)\n",
    "        #plt.xticks((-0.2,0,0.2))\n",
    "        #plt.show()\n",
    "        #print(node_histogram(result['x'],result['J'],**run))\n",
    "        #return (mean, std)"
   ]
  },
  {
   "cell_type": "code",
   "execution_count": null,
   "metadata": {},
   "outputs": [],
   "source": [
    "#PLOT HISTOGRAMS\n",
    "# first histogram would be: node_histogram(results[0]['x'],results[0]['J'],**runs[0])\n",
    "\n",
    "means=[]\n",
    "stds=[]\n",
    "label=[]\n",
    "for result, run in zip(results,runs):\n",
    "    print(run)\n",
    "    label.append(run)\n",
    "    print(node_histogram(result['x'],result['J'],**run))\n",
    "    "
   ]
  },
  {
   "cell_type": "code",
   "execution_count": null,
   "metadata": {},
   "outputs": [],
   "source": [
    "#Thank you for everything! :) "
   ]
  }
 ],
 "metadata": {
  "kernelspec": {
   "display_name": "Python 3",
   "language": "python",
   "name": "python3"
  },
  "language_info": {
   "codemirror_mode": {
    "name": "ipython",
    "version": 3
   },
   "file_extension": ".py",
   "mimetype": "text/x-python",
   "name": "python",
   "nbconvert_exporter": "python",
   "pygments_lexer": "ipython3",
   "version": "3.6.5"
  }
 },
 "nbformat": 4,
 "nbformat_minor": 2
}
